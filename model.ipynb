{
 "cells": [
  {
   "cell_type": "code",
   "execution_count": 1,
   "metadata": {},
   "outputs": [],
   "source": [
    "from head import blip_vqa"
   ]
  },
  {
   "cell_type": "code",
   "execution_count": 2,
   "metadata": {},
   "outputs": [],
   "source": [
    "model = blip_vqa.BLIP_VQA(vit='base_8')"
   ]
  },
  {
   "cell_type": "code",
   "execution_count": 1,
   "metadata": {},
   "outputs": [],
   "source": [
    "from backbone.utils import _download, _MODELS\n",
    "_download(_MODELS['base_8'] ,'/Users/valery/GitHub/VideoQA-NTO/models')\n",
    "_download('https://huggingface.co/bert-base-multilingual-uncased/resolve/main/pytorch_model.bin' ,'/Users/valery/GitHub/VideoQA-NTO/models')"
   ]
  },
  {
   "cell_type": "code",
   "execution_count": null,
   "metadata": {},
   "outputs": [],
   "source": []
  },
  {
   "cell_type": "code",
   "execution_count": 3,
   "metadata": {},
   "outputs": [],
   "source": [
    "import torch\n",
    "checkpoint = torch.load('/Users/valery/GitHub/VideoQA-NTO/models/k600_k710_uniformerv2_b16_8x224.pyth', map_location='cpu') \n",
    "\n",
    "ww = {}\n",
    "for key in checkpoint.keys():\n",
    "    ww[key.replace('backbone', 'visual_encoder')] = checkpoint[key]\n",
    "\n",
    "msg = model.load_state_dict(ww,strict=False)"
   ]
  },
  {
   "cell_type": "code",
   "execution_count": null,
   "metadata": {},
   "outputs": [],
   "source": []
  },
  {
   "cell_type": "markdown",
   "metadata": {},
   "source": []
  },
  {
   "cell_type": "code",
   "execution_count": null,
   "metadata": {},
   "outputs": [],
   "source": []
  },
  {
   "cell_type": "code",
   "execution_count": 4,
   "metadata": {},
   "outputs": [],
   "source": [
    "import torch\n",
    "checkpoint = torch.load('/Users/valery/GitHub/VideoQA-NTO/models/pytorch_model.bin', map_location='cpu') \n",
    "\n",
    "ww_encoder = {}\n",
    "for key in model.state_dict().keys():\n",
    "    key = key.replace('text_encoder', 'bert')\n",
    "    if key in checkpoint.keys():\n",
    "        if 'word_embeddings' in key:\n",
    "            del checkpoint[key]\n",
    "        else:\n",
    "            ww_encoder[key.replace('bert', 'text_encoder')] = checkpoint[key]\n",
    "# for key in checkpoint.keys():\n",
    "    # if 'word_embeddings' in key:\n",
    "    #     # checkpoint[key.replace('bert', 'text_encoder')] = model.state_dict()[key.replace('bert', 'text_encoder')]\n",
    "    # ww_encoder[key.replace('bert', 'text_encoder')] = checkpoint[key]\n",
    "\n",
    "msg1 = model.load_state_dict(ww_encoder,strict=False)\n",
    "\n",
    "ww_decoder = {}\n",
    "for key in checkpoint.keys():\n",
    "    ww_decoder[key.replace('bert', 'text_decoder.bert')] = checkpoint[key]\n",
    "\n",
    "msg2 = model.load_state_dict(ww_decoder,strict=False)"
   ]
  },
  {
   "cell_type": "code",
   "execution_count": null,
   "metadata": {},
   "outputs": [],
   "source": []
  },
  {
   "cell_type": "code",
   "execution_count": 5,
   "metadata": {},
   "outputs": [
    {
     "data": {
      "text/plain": [
       "'cls.seq_relationship.bias'"
      ]
     },
     "execution_count": 5,
     "metadata": {},
     "output_type": "execute_result"
    }
   ],
   "source": [
    "key"
   ]
  },
  {
   "cell_type": "code",
   "execution_count": 1,
   "metadata": {},
   "outputs": [],
   "source": [
    "import torch\n",
    "video = torch.randn(1, 3, 8, 224, 224)\n",
    "question = 'who was gay?'\n",
    "answer = 'adam'\n",
    "n = 1\n",
    "weights = 0.2\n",
    "\n"
   ]
  },
  {
   "cell_type": "code",
   "execution_count": 7,
   "metadata": {},
   "outputs": [],
   "source": [
    "outputs = model(video, question, answer, [n] , weights, train=False)"
   ]
  },
  {
   "cell_type": "code",
   "execution_count": 8,
   "metadata": {},
   "outputs": [
    {
     "data": {
      "text/plain": [
       "['нацыянальны jobs ש jonathanasne rekyhanyasne pistas']"
      ]
     },
     "execution_count": 8,
     "metadata": {},
     "output_type": "execute_result"
    }
   ],
   "source": [
    "outputs"
   ]
  },
  {
   "cell_type": "code",
   "execution_count": null,
   "metadata": {},
   "outputs": [],
   "source": []
  },
  {
   "cell_type": "code",
   "execution_count": null,
   "metadata": {},
   "outputs": [],
   "source": []
  },
  {
   "cell_type": "code",
   "execution_count": null,
   "metadata": {},
   "outputs": [],
   "source": []
  },
  {
   "cell_type": "code",
   "execution_count": 25,
   "metadata": {},
   "outputs": [],
   "source": [
    "import pandas as pd\n",
    "\n",
    "df = pd.read_csv('/Users/valery/GitHub/VideoQA-NTO/activitynet/updatedtrain.csv')\n",
    "df = df[(df['answer'] != 'да') & (df['answer'] != 'нет')]\n",
    "df['video_name'] = 'activitynet/videos/' + df['video_name']"
   ]
  },
  {
   "cell_type": "code",
   "execution_count": 26,
   "metadata": {},
   "outputs": [],
   "source": [
    "from sklearn.model_selection import train_test_split\n",
    "train, test = train_test_split(df, test_size=0.2, random_state=42)\n"
   ]
  },
  {
   "cell_type": "code",
   "execution_count": 27,
   "metadata": {},
   "outputs": [],
   "source": [
    "train.to_csv('/Users/valery/GitHub/VideoQA-NTO/activitynet/train.csv', index=False)\n",
    "test.to_csv('/Users/valery/GitHub/VideoQA-NTO/activitynet/test.csv', index=False)"
   ]
  },
  {
   "cell_type": "code",
   "execution_count": 28,
   "metadata": {},
   "outputs": [],
   "source": [
    "import pandas as pd\n",
    "df = pd.read_csv('/Users/valery/GitHub/VideoQA-NTO/activitynet/test.csv')"
   ]
  },
  {
   "cell_type": "code",
   "execution_count": 29,
   "metadata": {},
   "outputs": [
    {
     "data": {
      "text/html": [
       "<div>\n",
       "<style scoped>\n",
       "    .dataframe tbody tr th:only-of-type {\n",
       "        vertical-align: middle;\n",
       "    }\n",
       "\n",
       "    .dataframe tbody tr th {\n",
       "        vertical-align: top;\n",
       "    }\n",
       "\n",
       "    .dataframe thead th {\n",
       "        text-align: right;\n",
       "    }\n",
       "</style>\n",
       "<table border=\"1\" class=\"dataframe\">\n",
       "  <thead>\n",
       "    <tr style=\"text-align: right;\">\n",
       "      <th></th>\n",
       "      <th>Unnamed: 0</th>\n",
       "      <th>video_name</th>\n",
       "      <th>question</th>\n",
       "      <th>answer</th>\n",
       "    </tr>\n",
       "  </thead>\n",
       "  <tbody>\n",
       "    <tr>\n",
       "      <th>0</th>\n",
       "      <td>594</td>\n",
       "      <td>activitynet/videos/wNvLv7PtvQg</td>\n",
       "      <td>как сложно кататься на лодке</td>\n",
       "      <td>обычно</td>\n",
       "    </tr>\n",
       "    <tr>\n",
       "      <th>1</th>\n",
       "      <td>12381</td>\n",
       "      <td>activitynet/videos/3UgGvKnelfY</td>\n",
       "      <td>почему человек носит шлем</td>\n",
       "      <td>защитная головка</td>\n",
       "    </tr>\n",
       "    <tr>\n",
       "      <th>2</th>\n",
       "      <td>9315</td>\n",
       "      <td>activitynet/videos/QHJTOHgjDMw</td>\n",
       "      <td>что делает человек в сером жилете</td>\n",
       "      <td>играть на пианино</td>\n",
       "    </tr>\n",
       "    <tr>\n",
       "      <th>3</th>\n",
       "      <td>9342</td>\n",
       "      <td>activitynet/videos/kdRcWkrZRZo</td>\n",
       "      <td>что делает человек в белой рубашке</td>\n",
       "      <td>выпуск новостей</td>\n",
       "    </tr>\n",
       "    <tr>\n",
       "      <th>4</th>\n",
       "      <td>15280</td>\n",
       "      <td>activitynet/videos/IWHER8iS1B4</td>\n",
       "      <td>что спереди у детей в радужной одежде</td>\n",
       "      <td>аудитория</td>\n",
       "    </tr>\n",
       "    <tr>\n",
       "      <th>...</th>\n",
       "      <td>...</td>\n",
       "      <td>...</td>\n",
       "      <td>...</td>\n",
       "      <td>...</td>\n",
       "    </tr>\n",
       "    <tr>\n",
       "      <th>3794</th>\n",
       "      <td>14122</td>\n",
       "      <td>activitynet/videos/OIA7lPraPSM</td>\n",
       "      <td>почему мужчина на видео меняет позу</td>\n",
       "      <td>готов к прыжку</td>\n",
       "    </tr>\n",
       "    <tr>\n",
       "      <th>3795</th>\n",
       "      <td>15375</td>\n",
       "      <td>activitynet/videos/_4CLYKFzmoY</td>\n",
       "      <td>что на ухе у человека в гарнитуре</td>\n",
       "      <td>гарнитура</td>\n",
       "    </tr>\n",
       "    <tr>\n",
       "      <th>3796</th>\n",
       "      <td>14298</td>\n",
       "      <td>activitynet/videos/s82_J03bqwQ</td>\n",
       "      <td>почему человек в красных рубашках полирует перед</td>\n",
       "      <td>гладкая поверхность</td>\n",
       "    </tr>\n",
       "    <tr>\n",
       "      <th>3797</th>\n",
       "      <td>4839</td>\n",
       "      <td>activitynet/videos/qRT0Z6Sz_Ck</td>\n",
       "      <td>что делает человек в клетчатой ​​рубашке</td>\n",
       "      <td>снять видео</td>\n",
       "    </tr>\n",
       "    <tr>\n",
       "      <th>3798</th>\n",
       "      <td>14695</td>\n",
       "      <td>activitynet/videos/_akwfjIbsUA</td>\n",
       "      <td>почему ребенок на слайде в видео</td>\n",
       "      <td>играть</td>\n",
       "    </tr>\n",
       "  </tbody>\n",
       "</table>\n",
       "<p>3799 rows × 4 columns</p>\n",
       "</div>"
      ],
      "text/plain": [
       "      Unnamed: 0                      video_name  \\\n",
       "0            594  activitynet/videos/wNvLv7PtvQg   \n",
       "1          12381  activitynet/videos/3UgGvKnelfY   \n",
       "2           9315  activitynet/videos/QHJTOHgjDMw   \n",
       "3           9342  activitynet/videos/kdRcWkrZRZo   \n",
       "4          15280  activitynet/videos/IWHER8iS1B4   \n",
       "...          ...                             ...   \n",
       "3794       14122  activitynet/videos/OIA7lPraPSM   \n",
       "3795       15375  activitynet/videos/_4CLYKFzmoY   \n",
       "3796       14298  activitynet/videos/s82_J03bqwQ   \n",
       "3797        4839  activitynet/videos/qRT0Z6Sz_Ck   \n",
       "3798       14695  activitynet/videos/_akwfjIbsUA   \n",
       "\n",
       "                                              question               answer  \n",
       "0                         как сложно кататься на лодке               обычно  \n",
       "1                            почему человек носит шлем     защитная головка  \n",
       "2                    что делает человек в сером жилете    играть на пианино  \n",
       "3                   что делает человек в белой рубашке      выпуск новостей  \n",
       "4                что спереди у детей в радужной одежде            аудитория  \n",
       "...                                                ...                  ...  \n",
       "3794               почему мужчина на видео меняет позу       готов к прыжку  \n",
       "3795                 что на ухе у человека в гарнитуре            гарнитура  \n",
       "3796  почему человек в красных рубашках полирует перед  гладкая поверхность  \n",
       "3797          что делает человек в клетчатой ​​рубашке          снять видео  \n",
       "3798                  почему ребенок на слайде в видео               играть  \n",
       "\n",
       "[3799 rows x 4 columns]"
      ]
     },
     "execution_count": 29,
     "metadata": {},
     "output_type": "execute_result"
    }
   ],
   "source": [
    "df"
   ]
  },
  {
   "cell_type": "code",
   "execution_count": 23,
   "metadata": {},
   "outputs": [],
   "source": [
    "from iopath.common.file_io import g_pathmgr\n",
    "import os\n",
    "\n",
    "_num_clips = 2\n",
    "mode = 'test'\n",
    "path_to_file = os.path.join(\n",
    "    '/Users/valery/GitHub/VideoQA-NTO/activitynet', \"{}.csv\".format(mode)\n",
    ")\n",
    "\n",
    "df = pd.read_csv(path_to_file)\n",
    "\n",
    "_path_to_videos = df['video_name'].to_list()\n",
    "_labels = df['answer'].to_list()\n",
    "_question = df['question'].to_list()\n",
    "\n",
    "for idx in range(_num_clips - 1):\n",
    "    _path_to_videos = _path_to_videos *2\n",
    "    _labels = _labels *2\n",
    "    _question = _question *2\n",
    "\n",
    "answer_weight = {}\n",
    "for answer in _labels:\n",
    "    if answer in answer_weight.keys():\n",
    "        answer_weight[answer] += 1/len(_labels)\n",
    "    else:\n",
    "        answer_weight[answer] = 1/len(_labels)\n",
    "\n",
    "    weights = list(answer_weight.values())\n",
    "\n",
    "\n"
   ]
  },
  {
   "cell_type": "code",
   "execution_count": null,
   "metadata": {},
   "outputs": [],
   "source": []
  }
 ],
 "metadata": {
  "kernelspec": {
   "display_name": "Python 3",
   "language": "python",
   "name": "python3"
  },
  "language_info": {
   "codemirror_mode": {
    "name": "ipython",
    "version": 3
   },
   "file_extension": ".py",
   "mimetype": "text/x-python",
   "name": "python",
   "nbconvert_exporter": "python",
   "pygments_lexer": "ipython3",
   "version": "3.9.0"
  },
  "orig_nbformat": 4,
  "vscode": {
   "interpreter": {
    "hash": "31f2aee4e71d21fbe5cf8b01ff0e069b9275f58929596ceb00d14d90e3e16cd6"
   }
  }
 },
 "nbformat": 4,
 "nbformat_minor": 2
}
